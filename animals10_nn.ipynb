{
  "cells": [
    {
      "cell_type": "code",
      "execution_count": null,
      "metadata": {
        "colab": {
          "base_uri": "https://localhost:8080/"
        },
        "id": "9J32Xn8kBEcz",
        "outputId": "c7cb03c0-a303-4216-f277-2c0f4b2080f0"
      },
      "outputs": [],
      "source": [
        "%load_ext autoreload\n",
        "%autoreload 2"
      ]
    },
    {
      "cell_type": "code",
      "execution_count": null,
      "metadata": {
        "colab": {
          "base_uri": "https://localhost:8080/"
        },
        "id": "3oX1uI03I0VN",
        "outputId": "8d8b0e4a-2e17-4061-b40d-6874fa3d6e97"
      },
      "outputs": [],
      "source": [
        "%pip install wandb\n",
        "!wandb"
      ]
    },
    {
      "cell_type": "code",
      "execution_count": null,
      "metadata": {
        "colab": {
          "base_uri": "https://localhost:8080/"
        },
        "id": "SW7wcgwABQJN",
        "outputId": "ba3e0805-0bc7-45bc-e91b-05244c35793a"
      },
      "outputs": [],
      "source": [
        "%pip install kaggle --upgrade\n",
        "import os\n",
        "fpath = os.path.join(os.path.expanduser(\"~\"), \".kaggle\", \"kaggle.json\")\n",
        "if not os.path.isfile(fpath):\n",
        "    try:\n",
        "        os.mkdir(os.path.join(os.path.expanduser(\"~\"), \".kaggle\"))\n",
        "    except Exception:\n",
        "        pass\n",
        "    with open(fpath, \"w\") as f:\n",
        "        f.write(input(f\"input {fpath}\"))\n",
        "    !chmod 600 {fpath}"
      ]
    },
    {
      "cell_type": "code",
      "execution_count": null,
      "metadata": {
        "id": "hDM7Q7SvDWdk"
      },
      "outputs": [],
      "source": [
        "if 'datasets' not in os.listdir(os.getcwd()) or 'animals10' not in os.listdir(os.path.join(os.getcwd(), 'datasets')):\n",
        "    !kaggle datasets download alessiocorrado99/animals10\n",
        "    !mkdir datasets\n",
        "    !unzip animals10.zip -d datasets/animals10\n",
        "    !rm animals10.zip"
      ]
    },
    {
      "cell_type": "code",
      "execution_count": null,
      "metadata": {
        "id": "rgDeTNqIBEc7"
      },
      "outputs": [],
      "source": [
        "import torch.nn as nn\n",
        "import torch.nn.functional as F\n",
        "class someNet(nn.Module):\n",
        "    def __init__(self):\n",
        "        super().__init__()\n",
        "        self.l1 = nn.Linear(IM_HEIGHT*IM_WIDTH*3, 100)\n",
        "        self.l2 = nn.Linear(100, 10)\n",
        "    def forward(self, x):\n",
        "        x = self.l1(x)\n",
        "        x = F.relu(x)\n",
        "        x = self.l2(x)\n",
        "        x = F.log_softmax(x)\n",
        "        return x\n"
      ]
    },
    {
      "cell_type": "code",
      "execution_count": null,
      "metadata": {
        "id": "eUGumgbBBEc8"
      },
      "outputs": [],
      "source": [
        "from tqdm import tqdm\n",
        "def train(model, dev, train_set_loader, optimizer, epoch, WAND, LOG_INTERVAL):\n",
        "    model.train()\n",
        "    for bI, (x_b, y_b) in enumerate(tqdm(train_set_loader)):\n",
        "        x_b = review(x_b)\n",
        "        x_b, y_b = preprocess(x_b, y_b)\n",
        "        pred = model.forward(x_b)\n",
        "        loss = loss_fn(pred, y_b)\n",
        "        # clear gradients for this training step\n",
        "        optimizer.zero_grad()\n",
        "        # backprop, compute gradients\n",
        "        loss.backward()\n",
        "        # apply gradients\n",
        "        optimizer.step()\n",
        "        if bI % LOG_INTERVAL == 0:\n",
        "            loss_final = loss.mean().item()\n",
        "            if WAND: wandb.log({\"train_loss\": loss_final})\n",
        "            print(epoch, loss_final)\n",
        "\n",
        "def test(model, dev, test_set_loader, WAND):\n",
        "    with torch.no_grad():\n",
        "        val_loss = torch.Tensor(len(test_set_loader)).to(dev)\n",
        "        for i, (x_v_b, y_v_b) in enumerate(tqdm(test_set_loader)):\n",
        "            x_v_b, y_v_b = preprocess(x_v_b, y_v_b)\n",
        "            x_v_b = review(x_v_b)\n",
        "            pred = model.forward(x_v_b)\n",
        "            loss = loss_fn(pred, y_v_b)\n",
        "            val_loss[i] = (loss.sum()/y_v_b.shape[0])\n",
        "        val_loss_final = val_loss.mean().item()\n",
        "        if WAND: wandb.log({\"val_loss\": val_loss_final})\n",
        "        print(val_loss_final)\n"
      ]
    },
    {
      "cell_type": "code",
      "execution_count": null,
      "metadata": {
        "id": "-wJ3D5mxBEc7"
      },
      "outputs": [],
      "source": [
        "WAND = True\n",
        "LOG_INTERVAL = 1\n",
        "N_EPOCH = 1\n",
        "LR = 0.01\n",
        "BS = 256\n",
        "IM_HEIGHT = 425\n",
        "IM_WIDTH = 600\n",
        "TRAIN_DAT_PERC = 0.95"
      ]
    },
    {
      "cell_type": "code",
      "execution_count": null,
      "metadata": {
        "colab": {
          "base_uri": "https://localhost:8080/",
          "height": 170,
          "referenced_widgets": [
            "c05c72d5c1d34f8b83e7f2047bd201d7",
            "4eb8fc4420874fb986da654709add632",
            "28d666f20c9e43a79f13f5a359cef3f1",
            "1fa406f87b9e4ff99eb18cc163d33a8e",
            "82ac5c97d14d4d96b70b61ff32ebe67f",
            "fba833a26d1143b99ae75e83c54a7581",
            "8370d263ed7d450ca12aaafadc1f035e",
            "0c22613649f743fc98819124479d624a"
          ]
        },
        "id": "aKp3id8aBEc7",
        "outputId": "db65b562-d5df-491f-a2eb-dd3f53df6300"
      },
      "outputs": [],
      "source": [
        "if WAND:\n",
        "  import wandb\n",
        "  wandb_run = wandb.init(project=\"animals10\", entity=\"0xasim\")\n",
        "  wandb.config = {\n",
        "    \"learning_rate\": LR,\n",
        "    \"epochs\": N_EPOCH,\n",
        "    \"batch_size\": BS\n",
        "  }\n",
        "  run_name = wandb_run.name"
      ]
    },
    {
      "cell_type": "code",
      "execution_count": null,
      "metadata": {
        "id": "zqMJ-tBtBEc6"
      },
      "outputs": [],
      "source": [
        "import torch\n",
        "import os\n",
        "torch.manual_seed(17)\n",
        "from torchvision import datasets, transforms\n",
        "transform = transforms.Compose([transforms.Resize([IM_HEIGHT, IM_WIDTH]), transforms.ToTensor()])\n",
        "path = os.path.join(os.getcwd(), \"datasets\", \"animals10\", \"raw-img\")\n",
        "dataset = datasets.ImageFolder(path, transform=transform)\n",
        "train_set, test_set = torch.utils.data.random_split(dataset, [int(len(dataset)*TRAIN_DAT_PERC), int(len(dataset)*round(1-TRAIN_DAT_PERC, 2))+1])\n",
        "train_set_loader = torch.utils.data.DataLoader(train_set, batch_size=BS, shuffle=True)\n",
        "test_set_loader = torch.utils.data.DataLoader(test_set, batch_size=BS, shuffle=True)"
      ]
    },
    {
      "cell_type": "code",
      "execution_count": null,
      "metadata": {
        "colab": {
          "base_uri": "https://localhost:8080/",
          "height": 558
        },
        "id": "UHCtbRVtBEc6",
        "outputId": "2eb4faa7-9a6c-4b11-8cc8-918892b5800e"
      },
      "outputs": [],
      "source": [
        "import matplotlib.pyplot as plt\n",
        "i, l = next(iter(train_set_loader))\n",
        "print(i.shape, i[0].shape)\n",
        "sample = i[0][2]\n",
        "print(sample)\n",
        "plt.imshow(i[0][2].reshape(IM_HEIGHT, IM_WIDTH))\n",
        "plt.show()\n",
        "print(i[0][0])\n",
        "print(torch.min(i[0][0]))\n",
        "print(torch.max(i[0][0]))"
      ]
    },
    {
      "cell_type": "code",
      "execution_count": null,
      "metadata": {
        "colab": {
          "base_uri": "https://localhost:8080/",
          "height": 480
        },
        "id": "7FlcKGlGGFyL",
        "outputId": "70e5d94e-0f13-4f2a-85c9-92234e38a787"
      },
      "outputs": [],
      "source": [
        "def preprocess(x, y):\n",
        "    return x.to(dev), y.to(dev)\n",
        "review = lambda x_b: x_b.view(len(x_b), -1)\n",
        "\n",
        "if __name__ == '__main__':\n",
        "    dev = torch.device('cuda') if torch.cuda.is_available() else torch.device('cpu')\n",
        "    print(dev)\n",
        "    if torch.cuda.is_available():\n",
        "        torch.cuda.empty_cache()\n",
        "    model = someNet()\n",
        "    model.to(dev)\n",
        "    loss_fn = nn.CrossEntropyLoss().to(dev)\n",
        "    optimizer = torch.optim.Adam(model.parameters(), lr=LR)\n",
        "    for epoch in range(N_EPOCH):\n",
        "        train(model, dev, train_set_loader, optimizer, epoch, WAND, LOG_INTERVAL)\n",
        "        test(model, dev, test_set_loader, WAND)"
      ]
    },
    {
      "cell_type": "code",
      "execution_count": null,
      "metadata": {
        "id": "OKZMpJs0LsDI"
      },
      "outputs": [],
      "source": [
        "model_name = run_name+'.pt'\n",
        "MODEL_PATH = os.path.join(os.getcwd(), str(N_EPOCH))\n",
        "torch.save(model.state_dict(), model_name)\n",
        "print(model_name)\n",
        "!ls -lah {model_name}"
      ]
    },
    {
      "cell_type": "code",
      "execution_count": null,
      "metadata": {
        "id": "SM64R0t1X1PV"
      },
      "outputs": [],
      "source": [
        "INCOLAB = 'google.colab' in str(get_ipython()) if hasattr(__builtins__,'__IPYTHON__') else False\n",
        "DOWNLOAD = True\n",
        "if INCOLAB and DOWNLOAD:\n",
        "    from google.colab import files\n",
        "    files.download(model_name)"
      ]
    }
  ],
  "metadata": {
    "accelerator": "GPU",
    "colab": {
      "name": "animals10_nn.ipynb",
      "provenance": []
    },
    "interpreter": {
      "hash": "eda7e54fe21129b67f77862937907ee926f057597a3e2fa1e18ac955e40912b3"
    },
    "kernelspec": {
      "display_name": "Python 3.10.4 64-bit",
      "language": "python",
      "name": "python3"
    },
    "language_info": {
      "codemirror_mode": {
        "name": "ipython",
        "version": 3
      },
      "file_extension": ".py",
      "mimetype": "text/x-python",
      "name": "python",
      "nbconvert_exporter": "python",
      "pygments_lexer": "ipython3",
      "version": "3.10.4"
    },
    "orig_nbformat": 4,
    "widgets": {
      "application/vnd.jupyter.widget-state+json": {
        "0c22613649f743fc98819124479d624a": {
          "model_module": "@jupyter-widgets/controls",
          "model_module_version": "1.5.0",
          "model_name": "ProgressStyleModel",
          "state": {
            "_model_module": "@jupyter-widgets/controls",
            "_model_module_version": "1.5.0",
            "_model_name": "ProgressStyleModel",
            "_view_count": null,
            "_view_module": "@jupyter-widgets/base",
            "_view_module_version": "1.2.0",
            "_view_name": "StyleView",
            "bar_color": null,
            "description_width": ""
          }
        },
        "1fa406f87b9e4ff99eb18cc163d33a8e": {
          "model_module": "@jupyter-widgets/base",
          "model_module_version": "1.2.0",
          "model_name": "LayoutModel",
          "state": {
            "_model_module": "@jupyter-widgets/base",
            "_model_module_version": "1.2.0",
            "_model_name": "LayoutModel",
            "_view_count": null,
            "_view_module": "@jupyter-widgets/base",
            "_view_module_version": "1.2.0",
            "_view_name": "LayoutView",
            "align_content": null,
            "align_items": null,
            "align_self": null,
            "border": null,
            "bottom": null,
            "display": null,
            "flex": null,
            "flex_flow": null,
            "grid_area": null,
            "grid_auto_columns": null,
            "grid_auto_flow": null,
            "grid_auto_rows": null,
            "grid_column": null,
            "grid_gap": null,
            "grid_row": null,
            "grid_template_areas": null,
            "grid_template_columns": null,
            "grid_template_rows": null,
            "height": null,
            "justify_content": null,
            "justify_items": null,
            "left": null,
            "margin": null,
            "max_height": null,
            "max_width": null,
            "min_height": null,
            "min_width": null,
            "object_fit": null,
            "object_position": null,
            "order": null,
            "overflow": null,
            "overflow_x": null,
            "overflow_y": null,
            "padding": null,
            "right": null,
            "top": null,
            "visibility": null,
            "width": null
          }
        },
        "28d666f20c9e43a79f13f5a359cef3f1": {
          "model_module": "@jupyter-widgets/controls",
          "model_module_version": "1.5.0",
          "model_name": "FloatProgressModel",
          "state": {
            "_dom_classes": [],
            "_model_module": "@jupyter-widgets/controls",
            "_model_module_version": "1.5.0",
            "_model_name": "FloatProgressModel",
            "_view_count": null,
            "_view_module": "@jupyter-widgets/controls",
            "_view_module_version": "1.5.0",
            "_view_name": "ProgressView",
            "bar_style": "",
            "description": "",
            "description_tooltip": null,
            "layout": "IPY_MODEL_8370d263ed7d450ca12aaafadc1f035e",
            "max": 1,
            "min": 0,
            "orientation": "horizontal",
            "style": "IPY_MODEL_0c22613649f743fc98819124479d624a",
            "value": 1
          }
        },
        "4eb8fc4420874fb986da654709add632": {
          "model_module": "@jupyter-widgets/controls",
          "model_module_version": "1.5.0",
          "model_name": "LabelModel",
          "state": {
            "_dom_classes": [],
            "_model_module": "@jupyter-widgets/controls",
            "_model_module_version": "1.5.0",
            "_model_name": "LabelModel",
            "_view_count": null,
            "_view_module": "@jupyter-widgets/controls",
            "_view_module_version": "1.5.0",
            "_view_name": "LabelView",
            "description": "",
            "description_tooltip": null,
            "layout": "IPY_MODEL_82ac5c97d14d4d96b70b61ff32ebe67f",
            "placeholder": "​",
            "style": "IPY_MODEL_fba833a26d1143b99ae75e83c54a7581",
            "value": "1.886 MB of 1.886 MB uploaded (0.000 MB deduped)\r"
          }
        },
        "82ac5c97d14d4d96b70b61ff32ebe67f": {
          "model_module": "@jupyter-widgets/base",
          "model_module_version": "1.2.0",
          "model_name": "LayoutModel",
          "state": {
            "_model_module": "@jupyter-widgets/base",
            "_model_module_version": "1.2.0",
            "_model_name": "LayoutModel",
            "_view_count": null,
            "_view_module": "@jupyter-widgets/base",
            "_view_module_version": "1.2.0",
            "_view_name": "LayoutView",
            "align_content": null,
            "align_items": null,
            "align_self": null,
            "border": null,
            "bottom": null,
            "display": null,
            "flex": null,
            "flex_flow": null,
            "grid_area": null,
            "grid_auto_columns": null,
            "grid_auto_flow": null,
            "grid_auto_rows": null,
            "grid_column": null,
            "grid_gap": null,
            "grid_row": null,
            "grid_template_areas": null,
            "grid_template_columns": null,
            "grid_template_rows": null,
            "height": null,
            "justify_content": null,
            "justify_items": null,
            "left": null,
            "margin": null,
            "max_height": null,
            "max_width": null,
            "min_height": null,
            "min_width": null,
            "object_fit": null,
            "object_position": null,
            "order": null,
            "overflow": null,
            "overflow_x": null,
            "overflow_y": null,
            "padding": null,
            "right": null,
            "top": null,
            "visibility": null,
            "width": null
          }
        },
        "8370d263ed7d450ca12aaafadc1f035e": {
          "model_module": "@jupyter-widgets/base",
          "model_module_version": "1.2.0",
          "model_name": "LayoutModel",
          "state": {
            "_model_module": "@jupyter-widgets/base",
            "_model_module_version": "1.2.0",
            "_model_name": "LayoutModel",
            "_view_count": null,
            "_view_module": "@jupyter-widgets/base",
            "_view_module_version": "1.2.0",
            "_view_name": "LayoutView",
            "align_content": null,
            "align_items": null,
            "align_self": null,
            "border": null,
            "bottom": null,
            "display": null,
            "flex": null,
            "flex_flow": null,
            "grid_area": null,
            "grid_auto_columns": null,
            "grid_auto_flow": null,
            "grid_auto_rows": null,
            "grid_column": null,
            "grid_gap": null,
            "grid_row": null,
            "grid_template_areas": null,
            "grid_template_columns": null,
            "grid_template_rows": null,
            "height": null,
            "justify_content": null,
            "justify_items": null,
            "left": null,
            "margin": null,
            "max_height": null,
            "max_width": null,
            "min_height": null,
            "min_width": null,
            "object_fit": null,
            "object_position": null,
            "order": null,
            "overflow": null,
            "overflow_x": null,
            "overflow_y": null,
            "padding": null,
            "right": null,
            "top": null,
            "visibility": null,
            "width": null
          }
        },
        "c05c72d5c1d34f8b83e7f2047bd201d7": {
          "model_module": "@jupyter-widgets/controls",
          "model_module_version": "1.5.0",
          "model_name": "VBoxModel",
          "state": {
            "_dom_classes": [],
            "_model_module": "@jupyter-widgets/controls",
            "_model_module_version": "1.5.0",
            "_model_name": "VBoxModel",
            "_view_count": null,
            "_view_module": "@jupyter-widgets/controls",
            "_view_module_version": "1.5.0",
            "_view_name": "VBoxView",
            "box_style": "",
            "children": [
              "IPY_MODEL_4eb8fc4420874fb986da654709add632",
              "IPY_MODEL_28d666f20c9e43a79f13f5a359cef3f1"
            ],
            "layout": "IPY_MODEL_1fa406f87b9e4ff99eb18cc163d33a8e"
          }
        },
        "fba833a26d1143b99ae75e83c54a7581": {
          "model_module": "@jupyter-widgets/controls",
          "model_module_version": "1.5.0",
          "model_name": "DescriptionStyleModel",
          "state": {
            "_model_module": "@jupyter-widgets/controls",
            "_model_module_version": "1.5.0",
            "_model_name": "DescriptionStyleModel",
            "_view_count": null,
            "_view_module": "@jupyter-widgets/base",
            "_view_module_version": "1.2.0",
            "_view_name": "StyleView",
            "description_width": ""
          }
        }
      }
    }
  },
  "nbformat": 4,
  "nbformat_minor": 0
}

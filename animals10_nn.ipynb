{
  "cells": [
    {
      "cell_type": "code",
      "execution_count": null,
      "metadata": {
        "id": "9J32Xn8kBEcz"
      },
      "outputs": [],
      "source": [
        "%load_ext autoreload\n",
        "%autoreload 2"
      ]
    },
    {
      "cell_type": "code",
      "execution_count": null,
      "metadata": {
        "colab": {
          "base_uri": "https://localhost:8080/"
        },
        "id": "3oX1uI03I0VN",
        "outputId": "95cfa04b-f5c6-46ce-e43f-5e71b020e309"
      },
      "outputs": [],
      "source": [
        "%pip install wandb\n",
        "!wandb"
      ]
    },
    {
      "cell_type": "code",
      "execution_count": null,
      "metadata": {
        "colab": {
          "base_uri": "https://localhost:8080/"
        },
        "id": "SW7wcgwABQJN",
        "outputId": "bfc788f3-8a77-447d-b2de-5e0af9e9c487"
      },
      "outputs": [],
      "source": [
        "%pip install kaggle --upgrade\n",
        "import os\n",
        "fpath = os.path.join(os.path.expanduser(\"~\"), \".kaggle\", \"kaggle.json\")\n",
        "if not os.path.isfile(fpath):\n",
        "    os.mkdir(os.path.join(os.path.expanduser(\"~\"), \".kaggle\"))\n",
        "    with open(fpath, \"w\") as f:\n",
        "        f.write(input(f\"input {fpath}\"))\n",
        "    !chmod 600 {fpath}"
      ]
    },
    {
      "cell_type": "code",
      "execution_count": null,
      "metadata": {
        "colab": {
          "base_uri": "https://localhost:8080/"
        },
        "id": "hDM7Q7SvDWdk",
        "outputId": "ed1997e6-f71f-493b-9d31-69159cdc0852"
      },
      "outputs": [],
      "source": [
        "if 'datasets' not in os.listdir(os.getcwd()):\n",
        "    !kaggle datasets download alessiocorrado99/animals10\n",
        "    !mkdir datasets\n",
        "    !unzip animals10.zip -d datasets/animals10\n",
        "    !rm animals10.zip"
      ]
    },
    {
      "cell_type": "code",
      "execution_count": null,
      "metadata": {
        "id": "zqMJ-tBtBEc6"
      },
      "outputs": [],
      "source": [
        "import torch\n",
        "import os\n",
        "# torch.manual_seed(17)\n",
        "from torchvision import datasets, transforms\n",
        "BS = 256\n",
        "IM_HEIGHT = 425\n",
        "IM_WIDTH = 600\n",
        "transform = transforms.Compose([transforms.Resize([IM_HEIGHT, IM_WIDTH]), transforms.ToTensor()])\n",
        "path = os.path.join(os.getcwd(), \"datasets\", \"animals10\", \"raw-img\")\n",
        "dataset = datasets.ImageFolder(path, transform=transform)\n",
        "td_len, vd_len = 0.95, 0.05\n",
        "train_set, val_set = torch.utils.data.random_split(dataset, [int(len(dataset)*td_len), int(len(dataset)*vd_len)+1])\n",
        "train_set_loader = torch.utils.data.DataLoader(train_set, batch_size=BS, shuffle=True)\n",
        "val_set_loader = torch.utils.data.DataLoader(val_set, batch_size=BS, shuffle=True)"
      ]
    },
    {
      "cell_type": "code",
      "execution_count": null,
      "metadata": {
        "colab": {
          "base_uri": "https://localhost:8080/",
          "height": 558
        },
        "id": "UHCtbRVtBEc6",
        "outputId": "ec885890-b7df-40f8-b15b-36cab8cb625c"
      },
      "outputs": [],
      "source": [
        "import matplotlib.pyplot as plt\n",
        "i, l = next(iter(train_set_loader))\n",
        "print(i.shape, i[0].shape)\n",
        "sample = i[0][2]\n",
        "print(sample)\n",
        "plt.imshow(i[0][2].reshape(IM_HEIGHT, IM_WIDTH))\n",
        "plt.show()\n",
        "print(i[0][0])\n",
        "print(torch.min(i[0][0]))\n",
        "print(torch.max(i[0][0]))"
      ]
    },
    {
      "cell_type": "code",
      "execution_count": null,
      "metadata": {
        "colab": {
          "base_uri": "https://localhost:8080/"
        },
        "id": "-QksY0dSN0XI",
        "outputId": "5de1cee5-a67b-4f0a-b729-abccb9ac65a7"
      },
      "outputs": [],
      "source": [
        "dev = torch.device('cuda') if torch.cuda.is_available() else torch.device('cpu')\n",
        "def preprocess(x, y):\n",
        "    return x.to(dev), y.to(dev)\n",
        "print(dev)"
      ]
    },
    {
      "cell_type": "code",
      "execution_count": null,
      "metadata": {
        "colab": {
          "base_uri": "https://localhost:8080/"
        },
        "id": "rgDeTNqIBEc7",
        "outputId": "357d852e-a152-4eac-a65e-75c30c55f7f6"
      },
      "outputs": [],
      "source": [
        "import torch.nn as nn\n",
        "import torch.nn.functional as F\n",
        "class someNet(nn.Module):\n",
        "    def __init__(self):\n",
        "        super().__init__()\n",
        "        self.l1 = nn.Linear(IM_HEIGHT*IM_WIDTH*3, 100)\n",
        "        self.l2 = nn.Linear(100, 10)\n",
        "        nn.init.normal_(self.l1.weight, mean=0, std=0.1)\n",
        "        nn.init.normal_(self.l2.weight, mean=0, std=0.1)\n",
        "    def forward(self, x):\n",
        "        x = self.l1(x)\n",
        "        x = F.relu(x)\n",
        "        x = self.l2(x)\n",
        "        x = F.log_softmax(x)\n",
        "        return x\n",
        "\n",
        "model = someNet()\n",
        "model.to(dev)"
      ]
    },
    {
      "cell_type": "code",
      "execution_count": null,
      "metadata": {
        "id": "-wJ3D5mxBEc7"
      },
      "outputs": [],
      "source": [
        "WAN = True\n",
        "N_EPOCH = 10\n",
        "LR = 0.01"
      ]
    },
    {
      "cell_type": "code",
      "execution_count": null,
      "metadata": {
        "colab": {
          "base_uri": "https://localhost:8080/",
          "height": 445,
          "referenced_widgets": [
            "d4ed6a56f64f4718a6bd4e8e6314b2f8",
            "ae64589cbd8c44c181372e663b33956b",
            "d1c3b11f8edd4bf5b3ce46bc8b10dfc1",
            "523f4f5eea9b4252b43269cdbf3dd376",
            "e178444ca8d04ea5a108f13db57543dc",
            "6cd31f1338fd478788f98fff5ce3f639",
            "015ccf042d7a4febbfbc893bc410ad90",
            "50bfcb5061454c3e9492546a157f748f"
          ]
        },
        "id": "aKp3id8aBEc7",
        "outputId": "77a4a2ba-fd8e-44f7-bfc1-1c6b42d9f7ee"
      },
      "outputs": [],
      "source": [
        "if WAN:\n",
        "  import wandb\n",
        "  wandb.init(project=\"animals10\", entity=\"0xasim\")\n",
        "  wandb.config = {\n",
        "    \"learning_rate\": LR,\n",
        "    \"epochs\": N_EPOCH,\n",
        "    \"batch_size\": BS\n",
        "  }\n",
        "  run_name = wandb.name()"
      ]
    },
    {
      "cell_type": "code",
      "execution_count": null,
      "metadata": {
        "id": "1YLuA6KOhNrS"
      },
      "outputs": [],
      "source": [
        "if torch.cuda.is_available():\n",
        "    torch.cuda.empty_cache()"
      ]
    },
    {
      "cell_type": "code",
      "execution_count": null,
      "metadata": {
        "colab": {
          "base_uri": "https://localhost:8080/",
          "height": 1000
        },
        "id": "eUGumgbBBEc8",
        "outputId": "9a69e52c-0c28-4502-d85b-37194e348aa1"
      },
      "outputs": [],
      "source": [
        "from tqdm import tqdm\n",
        "loss_fn = nn.CrossEntropyLoss().to(dev)\n",
        "optimizer = torch.optim.Adam(model.parameters(), lr=LR)\n",
        "review = lambda x_b: x_b.view(len(x_b), -1)\n",
        "def getValLoss():\n",
        "    with torch.no_grad():\n",
        "        val_loss = torch.Tensor(len(val_set_loader)).to(dev)\n",
        "        for i, (x_v_b, y_v_b) in enumerate(tqdm(val_set_loader)):\n",
        "            x_v_b, y_v_b = preprocess(x_v_b, y_v_b)\n",
        "            x_v_b = review(x_v_b)\n",
        "            pred = model.forward(x_v_b)\n",
        "            loss = loss_fn(pred, y_v_b)\n",
        "            val_loss[i] = (loss.sum()/y_v_b.shape[0])\n",
        "            print(val_loss)\n",
        "        return val_loss.sum().item()\n",
        "\n",
        "def train():\n",
        "    for i in (range(N_EPOCH)):\n",
        "        batch_loss = list()\n",
        "        for bI, (x_b, y_b) in enumerate(tqdm(train_set_loader)):\n",
        "            x_b = review(x_b)\n",
        "            x_b, y_b = preprocess(x_b, y_b)\n",
        "            pred = model.forward(x_b)\n",
        "            loss = loss_fn(pred, y_b)\n",
        "            # clear gradients for this training step\n",
        "            optimizer.zero_grad()\n",
        "            # backprop, compute gradients\n",
        "            loss.backward()\n",
        "            # apply gradients\n",
        "            optimizer.step()\n",
        "            batch_loss.append(loss.sum()/y_b.shape[0])\n",
        "            if WAN:\n",
        "                wandb.log({\"train_loss\": loss.sum().item()})\n",
        "                if bI%50==0:\n",
        "                    wandb.log({\"val_loss\": getValLoss()})\n",
        "\n",
        "train()"
      ]
    },
    {
      "cell_type": "code",
      "execution_count": null,
      "metadata": {
        "colab": {
          "base_uri": "https://localhost:8080/"
        },
        "id": "OKZMpJs0LsDI",
        "outputId": "55216ddf-b6a0-4882-d7e3-f4f0db431977"
      },
      "outputs": [],
      "source": [
        "run_name = \"true-deluge-17\"\n",
        "model_name = run_name+'.pt'\n",
        "MODEL_PATH = os.path.join(os.getcwd(), str(N_EPOCH))\n",
        "torch.save(model.state_dict(), model_name)\n",
        "print(model_name)\n",
        "!ls -lah {model_name}"
      ]
    },
    {
      "cell_type": "code",
      "execution_count": null,
      "metadata": {
        "colab": {
          "base_uri": "https://localhost:8080/",
          "height": 17
        },
        "id": "SM64R0t1X1PV",
        "outputId": "d84b9446-08b3-4836-dc85-6fac21112768"
      },
      "outputs": [],
      "source": [
        "INCOLAB = 'google.colab' in str(get_ipython()) if hasattr(__builtins__,'__IPYTHON__') else False\n",
        "DOWNLOAD = True\n",
        "if INCOLAB and DOWNLOAD:\n",
        "    from google.colab import files\n",
        "    files.download(model_name)"
      ]
    }
  ],
  "metadata": {
    "accelerator": "GPU",
    "colab": {
      "name": "animals10_nn.ipynb",
      "provenance": []
    },
    "interpreter": {
      "hash": "eda7e54fe21129b67f77862937907ee926f057597a3e2fa1e18ac955e40912b3"
    },
    "kernelspec": {
      "display_name": "Python 3.10.4 64-bit",
      "language": "python",
      "name": "python3"
    },
    "language_info": {
      "codemirror_mode": {
        "name": "ipython",
        "version": 3
      },
      "file_extension": ".py",
      "mimetype": "text/x-python",
      "name": "python",
      "nbconvert_exporter": "python",
      "pygments_lexer": "ipython3",
      "version": "3.10.4"
    },
    "orig_nbformat": 4,
    "widgets": {
      "application/vnd.jupyter.widget-state+json": {
        "015ccf042d7a4febbfbc893bc410ad90": {
          "model_module": "@jupyter-widgets/base",
          "model_module_version": "1.2.0",
          "model_name": "LayoutModel",
          "state": {
            "_model_module": "@jupyter-widgets/base",
            "_model_module_version": "1.2.0",
            "_model_name": "LayoutModel",
            "_view_count": null,
            "_view_module": "@jupyter-widgets/base",
            "_view_module_version": "1.2.0",
            "_view_name": "LayoutView",
            "align_content": null,
            "align_items": null,
            "align_self": null,
            "border": null,
            "bottom": null,
            "display": null,
            "flex": null,
            "flex_flow": null,
            "grid_area": null,
            "grid_auto_columns": null,
            "grid_auto_flow": null,
            "grid_auto_rows": null,
            "grid_column": null,
            "grid_gap": null,
            "grid_row": null,
            "grid_template_areas": null,
            "grid_template_columns": null,
            "grid_template_rows": null,
            "height": null,
            "justify_content": null,
            "justify_items": null,
            "left": null,
            "margin": null,
            "max_height": null,
            "max_width": null,
            "min_height": null,
            "min_width": null,
            "object_fit": null,
            "object_position": null,
            "order": null,
            "overflow": null,
            "overflow_x": null,
            "overflow_y": null,
            "padding": null,
            "right": null,
            "top": null,
            "visibility": null,
            "width": null
          }
        },
        "50bfcb5061454c3e9492546a157f748f": {
          "model_module": "@jupyter-widgets/controls",
          "model_module_version": "1.5.0",
          "model_name": "ProgressStyleModel",
          "state": {
            "_model_module": "@jupyter-widgets/controls",
            "_model_module_version": "1.5.0",
            "_model_name": "ProgressStyleModel",
            "_view_count": null,
            "_view_module": "@jupyter-widgets/base",
            "_view_module_version": "1.2.0",
            "_view_name": "StyleView",
            "bar_color": null,
            "description_width": ""
          }
        },
        "523f4f5eea9b4252b43269cdbf3dd376": {
          "model_module": "@jupyter-widgets/base",
          "model_module_version": "1.2.0",
          "model_name": "LayoutModel",
          "state": {
            "_model_module": "@jupyter-widgets/base",
            "_model_module_version": "1.2.0",
            "_model_name": "LayoutModel",
            "_view_count": null,
            "_view_module": "@jupyter-widgets/base",
            "_view_module_version": "1.2.0",
            "_view_name": "LayoutView",
            "align_content": null,
            "align_items": null,
            "align_self": null,
            "border": null,
            "bottom": null,
            "display": null,
            "flex": null,
            "flex_flow": null,
            "grid_area": null,
            "grid_auto_columns": null,
            "grid_auto_flow": null,
            "grid_auto_rows": null,
            "grid_column": null,
            "grid_gap": null,
            "grid_row": null,
            "grid_template_areas": null,
            "grid_template_columns": null,
            "grid_template_rows": null,
            "height": null,
            "justify_content": null,
            "justify_items": null,
            "left": null,
            "margin": null,
            "max_height": null,
            "max_width": null,
            "min_height": null,
            "min_width": null,
            "object_fit": null,
            "object_position": null,
            "order": null,
            "overflow": null,
            "overflow_x": null,
            "overflow_y": null,
            "padding": null,
            "right": null,
            "top": null,
            "visibility": null,
            "width": null
          }
        },
        "6cd31f1338fd478788f98fff5ce3f639": {
          "model_module": "@jupyter-widgets/controls",
          "model_module_version": "1.5.0",
          "model_name": "DescriptionStyleModel",
          "state": {
            "_model_module": "@jupyter-widgets/controls",
            "_model_module_version": "1.5.0",
            "_model_name": "DescriptionStyleModel",
            "_view_count": null,
            "_view_module": "@jupyter-widgets/base",
            "_view_module_version": "1.2.0",
            "_view_name": "StyleView",
            "description_width": ""
          }
        },
        "ae64589cbd8c44c181372e663b33956b": {
          "model_module": "@jupyter-widgets/controls",
          "model_module_version": "1.5.0",
          "model_name": "LabelModel",
          "state": {
            "_dom_classes": [],
            "_model_module": "@jupyter-widgets/controls",
            "_model_module_version": "1.5.0",
            "_model_name": "LabelModel",
            "_view_count": null,
            "_view_module": "@jupyter-widgets/controls",
            "_view_module_version": "1.5.0",
            "_view_name": "LabelView",
            "description": "",
            "description_tooltip": null,
            "layout": "IPY_MODEL_e178444ca8d04ea5a108f13db57543dc",
            "placeholder": "​",
            "style": "IPY_MODEL_6cd31f1338fd478788f98fff5ce3f639",
            "value": "0.022 MB of 0.022 MB uploaded (0.000 MB deduped)\r"
          }
        },
        "d1c3b11f8edd4bf5b3ce46bc8b10dfc1": {
          "model_module": "@jupyter-widgets/controls",
          "model_module_version": "1.5.0",
          "model_name": "FloatProgressModel",
          "state": {
            "_dom_classes": [],
            "_model_module": "@jupyter-widgets/controls",
            "_model_module_version": "1.5.0",
            "_model_name": "FloatProgressModel",
            "_view_count": null,
            "_view_module": "@jupyter-widgets/controls",
            "_view_module_version": "1.5.0",
            "_view_name": "ProgressView",
            "bar_style": "",
            "description": "",
            "description_tooltip": null,
            "layout": "IPY_MODEL_015ccf042d7a4febbfbc893bc410ad90",
            "max": 1,
            "min": 0,
            "orientation": "horizontal",
            "style": "IPY_MODEL_50bfcb5061454c3e9492546a157f748f",
            "value": 1
          }
        },
        "d4ed6a56f64f4718a6bd4e8e6314b2f8": {
          "model_module": "@jupyter-widgets/controls",
          "model_module_version": "1.5.0",
          "model_name": "VBoxModel",
          "state": {
            "_dom_classes": [],
            "_model_module": "@jupyter-widgets/controls",
            "_model_module_version": "1.5.0",
            "_model_name": "VBoxModel",
            "_view_count": null,
            "_view_module": "@jupyter-widgets/controls",
            "_view_module_version": "1.5.0",
            "_view_name": "VBoxView",
            "box_style": "",
            "children": [
              "IPY_MODEL_ae64589cbd8c44c181372e663b33956b",
              "IPY_MODEL_d1c3b11f8edd4bf5b3ce46bc8b10dfc1"
            ],
            "layout": "IPY_MODEL_523f4f5eea9b4252b43269cdbf3dd376"
          }
        },
        "e178444ca8d04ea5a108f13db57543dc": {
          "model_module": "@jupyter-widgets/base",
          "model_module_version": "1.2.0",
          "model_name": "LayoutModel",
          "state": {
            "_model_module": "@jupyter-widgets/base",
            "_model_module_version": "1.2.0",
            "_model_name": "LayoutModel",
            "_view_count": null,
            "_view_module": "@jupyter-widgets/base",
            "_view_module_version": "1.2.0",
            "_view_name": "LayoutView",
            "align_content": null,
            "align_items": null,
            "align_self": null,
            "border": null,
            "bottom": null,
            "display": null,
            "flex": null,
            "flex_flow": null,
            "grid_area": null,
            "grid_auto_columns": null,
            "grid_auto_flow": null,
            "grid_auto_rows": null,
            "grid_column": null,
            "grid_gap": null,
            "grid_row": null,
            "grid_template_areas": null,
            "grid_template_columns": null,
            "grid_template_rows": null,
            "height": null,
            "justify_content": null,
            "justify_items": null,
            "left": null,
            "margin": null,
            "max_height": null,
            "max_width": null,
            "min_height": null,
            "min_width": null,
            "object_fit": null,
            "object_position": null,
            "order": null,
            "overflow": null,
            "overflow_x": null,
            "overflow_y": null,
            "padding": null,
            "right": null,
            "top": null,
            "visibility": null,
            "width": null
          }
        }
      }
    }
  },
  "nbformat": 4,
  "nbformat_minor": 0
}

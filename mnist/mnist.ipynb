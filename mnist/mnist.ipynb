{
 "cells": [
  {
   "cell_type": "code",
   "execution_count": 2,
   "id": "b9dbc821",
   "metadata": {},
   "outputs": [],
   "source": [
    "%load_ext autoreload\n",
    "%autoreload 2"
   ]
  },
  {
   "cell_type": "code",
   "execution_count": 3,
   "id": "45e0075a",
   "metadata": {},
   "outputs": [],
   "source": [
    "import requests, gzip\n",
    "import numpy as np\n",
    "def get(url):\n",
    "    return np.frombuffer(gzip.decompress(requests.get(url).content), dtype=np.uint8)\n",
    "\n",
    "X_train = get(\"http://yann.lecun.com/exdb/mnist/train-images-idx3-ubyte.gz\")[0x10:].reshape((-1, 28, 28))\n",
    "y_train = get(\"http://yann.lecun.com/exdb/mnist/train-labels-idx1-ubyte.gz\")[8:]\n",
    "X_test = get(\"http://yann.lecun.com/exdb/mnist/t10k-images-idx3-ubyte.gz\")[0x10:].reshape((-1, 28, 28))\n",
    "y_test = get(\"http://yann.lecun.com/exdb/mnist/t10k-labels-idx1-ubyte.gz\")[8:]"
   ]
  },
  {
   "cell_type": "code",
   "execution_count": 4,
   "id": "95054216",
   "metadata": {},
   "outputs": [
    {
     "data": {
      "text/plain": [
       "<matplotlib.image.AxesImage at 0x1215c8700>"
      ]
     },
     "execution_count": 4,
     "metadata": {},
     "output_type": "execute_result"
    },
    {
     "data": {
      "image/png": "[encoded data removed]",
      "text/plain": [
       "<Figure size 432x288 with 1 Axes>"
      ]
     },
     "metadata": {
      "needs_background": "light"
     },
     "output_type": "display_data"
    }
   ],
   "source": [
    "from matplotlib.pyplot import imshow\n",
    "imshow(X_test[0])"
   ]
  },
  {
   "cell_type": "code",
   "execution_count": null,
   "id": "36376dc0",
   "metadata": {},
   "outputs": [],
   "source": [
    "N_EPOCH = 500\n",
    "LR = 0.01\n",
    "BS = 250"
   ]
  },
  {
   "cell_type": "code",
   "execution_count": 5,
   "id": "5707cb48",
   "metadata": {},
   "outputs": [
    {
     "name": "stderr",
     "output_type": "stream",
     "text": [
      "/var/folders/c4/j059kg7n61q9x8b27zrclg8c0000gn/T/ipykernel_23057/2845450077.py:4: UserWarning: Creating a tensor from a list of numpy.ndarrays is extremely slow. Please consider converting the list to a single numpy.ndarray with numpy.array() before converting to a tensor. (Triggered internally at  /Users/runner/work/pytorch/pytorch/pytorch/torch/csrc/utils/tensor_new.cpp:210.)\n",
      "  X_train_scaled = torch.tensor([np.reshape(xi/256, (-1)) for xi in X_train], dtype=torch.float32)\n"
     ]
    }
   ],
   "source": [
    "import torch\n",
    "torch.set_printoptions(sci_mode=False)\n",
    "# Feature Scaling\n",
    "X_train_scaled = torch.tensor([np.reshape(xi/256, (-1)) for xi in X_train], dtype=torch.float32)\n",
    "X_test_scaled = torch.tensor([np.reshape(xi/256, (-1, 28*28)) for xi in X_test], dtype=torch.float32)\n",
    "\n",
    "# One-Hot encoded targets\n",
    "y_train_one_hot = [[1 if i == l else 0 for i in range(10)] for l in y_train]\n",
    "y_test_one_hot = [[1 if i == l else 0 for i in range(10)] for l in y_test]\n",
    "\n",
    "y_train_torch = torch.tensor(y_train.copy())\n",
    "y_test_torch = torch.tensor(y_test.copy())\n",
    "from torch.utils.data import TensorDataset\n",
    "from torch.utils.data import DataLoader\n",
    "train_ds = TensorDataset(X_train_scaled, y_train_torch)\n",
    "test_ds = TensorDataset(X_test_scaled, y_test_torch)\n",
    "train_dl = DataLoader(train_ds, BS, shuffle=True)\n",
    "test_dl = DataLoader(test_ds)"
   ]
  },
  {
   "cell_type": "code",
   "execution_count": 34,
   "id": "5c231cbc",
   "metadata": {},
   "outputs": [],
   "source": [
    "import model\n",
    "model = model.conNet()"
   ]
  },
  {
   "cell_type": "code",
   "execution_count": 35,
   "id": "9414d046",
   "metadata": {},
   "outputs": [
    {
     "name": "stderr",
     "output_type": "stream",
     "text": [
      "\u001b[34m\u001b[1mwandb\u001b[0m: Currently logged in as: \u001b[33m0xasim\u001b[0m. Use \u001b[1m`wandb login --relogin`\u001b[0m to force relogin\n"
     ]
    },
    {
     "data": {
      "text/html": [
       "Tracking run with wandb version 0.12.16"
      ],
      "text/plain": [
       "<IPython.core.display.HTML object>"
      ]
     },
     "metadata": {},
     "output_type": "display_data"
    },
    {
     "data": {
      "text/html": [
       "Run data is saved locally in <code>/Users/dude/fun/ai-notebooks/mnist/wandb/run-20220514_184656-jk3bbwm2</code>"
      ],
      "text/plain": [
       "<IPython.core.display.HTML object>"
      ]
     },
     "metadata": {},
     "output_type": "display_data"
    },
    {
     "data": {
      "text/html": [
       "Syncing run <strong><a href=\"https://wandb.ai/0xasim/mnist/runs/jk3bbwm2\" target=\"_blank\">crisp-dawn-1</a></strong> to <a href=\"https://wandb.ai/0xasim/mnist\" target=\"_blank\">Weights & Biases</a> (<a href=\"https://wandb.me/run\" target=\"_blank\">docs</a>)<br/>"
      ],
      "text/plain": [
       "<IPython.core.display.HTML object>"
      ]
     },
     "metadata": {},
     "output_type": "display_data"
    }
   ],
   "source": [
    "import wandb\n",
    "wandb.init(project=\"mnist\", entity=\"0xasim\")\n",
    "wandb.config = {\n",
    "  \"learning_rate\": LR,\n",
    "  \"epochs\": N_EPOCH,\n",
    "  \"batch_size\": BS\n",
    "}"
   ]
  },
  {
   "cell_type": "code",
   "execution_count": 36,
   "id": "2b1ece29",
   "metadata": {},
   "outputs": [
    {
     "name": "stderr",
     "output_type": "stream",
     "text": [
      "100%|██████████| 100/100 [00:50<00:00,  2.00it/s]"
     ]
    },
    {
     "name": "stdout",
     "output_type": "stream",
     "text": [
      "[1.73497598e+06 2.35318579e+05 1.03195078e+05 5.27176701e+04\n",
      " 3.70229177e+04 2.90995644e+04 2.46091834e+04 2.10422849e+04\n",
      " 1.85277442e+04 1.67891912e+04 1.48938705e+04 1.32798563e+04\n",
      " 1.28840083e+04 1.20717945e+04 1.10849813e+04 1.03564445e+04\n",
      " 9.83685303e+03 9.30741544e+03 9.30602140e+03 8.84967107e+03\n",
      " 8.44357046e+03 8.16780597e+03 7.83516730e+03 7.40814877e+03\n",
      " 6.86582526e+03 6.57182762e+03 6.24659416e+03 6.19149289e+03\n",
      " 5.22036990e+03 5.80699932e+03 5.40494681e+03 5.10226394e+03\n",
      " 5.12146138e+03 4.55666171e+03 4.64517451e+03 3.84402203e+03\n",
      " 4.09918344e+03 5.11461285e+03 3.79440550e+03 3.72374631e+03\n",
      " 3.20757842e+03 3.84532429e+03 3.84549837e+03 3.47442741e+03\n",
      " 3.09240612e+03 3.00784208e+03 3.24640461e+03 3.18631207e+03\n",
      " 3.31262138e+03 3.08472517e+03 3.21629326e+03 2.62381757e+03\n",
      " 2.61457005e+03 2.68000475e+03 2.88645816e+03 3.10397852e+03\n",
      " 2.45686741e+03 2.35566002e+03 2.46837976e+03 2.26813789e+03\n",
      " 2.28270656e+03 2.35578308e+03 2.21911775e+03 1.65248191e+03\n",
      " 1.56951367e+03 2.50328871e+03 3.13769349e+03 2.75399143e+03\n",
      " 2.30439668e+03 1.97093748e+03 2.43462098e+03 2.06447346e+03\n",
      " 1.95212242e+03 1.39217414e+03 1.33224616e+03 2.08536399e+03\n",
      " 2.77400780e+03 2.85535745e+03 1.86494896e+03 1.69411553e+03\n",
      " 1.86860331e+03 1.25008736e+03 1.31414972e+03 1.15726793e+03\n",
      " 1.74132841e+03 2.55045079e+03 2.17325265e+03 2.28402608e+03\n",
      " 2.53924201e+03 1.11221562e+03 1.77837700e+03 1.55779131e+03\n",
      " 1.82349194e+03 1.97912013e+03 1.45673171e+03 1.47492297e+03\n",
      " 2.31025716e+03 1.53313754e+03 1.47600548e+03 1.34716757e+03]\n"
     ]
    },
    {
     "name": "stderr",
     "output_type": "stream",
     "text": [
      "\n"
     ]
    }
   ],
   "source": [
    "import torch\n",
    "import torch.nn as nn\n",
    "import torch.nn.functional as F\n",
    "from torch.autograd import Variable\n",
    "import numpy as np\n",
    "from tqdm import tqdm\n",
    "loss_hist = np.zeros(N_EPOCH)\n",
    "accuracy_hist = np.zeros(N_EPOCH)\n",
    "loss_fn = nn.CrossEntropyLoss()\n",
    "optimizer = torch.optim.Adam(model.parameters(), lr=LR)\n",
    "for epoch in tqdm(range(N_EPOCH)):\n",
    "    for x_batch, y_batch in train_dl:\n",
    "        # print(pred[0], y_batch[0])\n",
    "        # imshow((x_batch[0][0]*256).reshape(28,28))\n",
    "        b_x = Variable(x_batch)\n",
    "        b_y = Variable(y_batch)\n",
    "        pred = model.forward(b_x)\n",
    "        loss = loss_fn(pred, b_y)\n",
    "        # clear gradients for this training step\n",
    "        optimizer.zero_grad()\n",
    "        # backprop, compute gradients\n",
    "        loss.backward()\n",
    "        # apply gradients\n",
    "        optimizer.step()\n",
    "        loss_hist[epoch] += loss.item()*y_batch.size()[0]\n",
    "    wandb.log({\"loss\": loss_hist[epoch]})\n",
    "\n",
    "print(loss_hist)"
   ]
  },
  {
   "cell_type": "code",
   "execution_count": 38,
   "id": "4e55025b",
   "metadata": {},
   "outputs": [
    {
     "name": "stdout",
     "output_type": "stream",
     "text": [
      "accuracy: 98.0%\n"
     ]
    }
   ],
   "source": [
    "with torch.no_grad():\n",
    "    n_correct = 0\n",
    "    for x, target in test_dl:\n",
    "        # b_x = Variable(x)[0]\n",
    "        b_x = x\n",
    "        pred = model.forward(b_x)\n",
    "        top_1 = torch.argmax(pred)\n",
    "        n_correct += (top_1 == target)\n",
    "    print(f'accuracy: {n_correct[0]/10_00*100}%')"
   ]
  }
 ],
 "metadata": {
  "interpreter": {
   "hash": "a0a5145e6c304e2a9afaf5b930a2955b950bd4b81fe94f7c42930f43f42762eb"
  },
  "kernelspec": {
   "display_name": "Python 3.10.4 64-bit",
   "language": "python",
   "name": "python3"
  },
  "language_info": {
   "codemirror_mode": {
    "name": "ipython",
    "version": 3
   },
   "file_extension": ".py",
   "mimetype": "text/x-python",
   "name": "python",
   "nbconvert_exporter": "python",
   "pygments_lexer": "ipython3",
   "version": "3.10.4"
  }
 },
 "nbformat": 4,
 "nbformat_minor": 5
}

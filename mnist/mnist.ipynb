{
 "cells": [
  {
   "cell_type": "code",
   "execution_count": 10,
   "id": "b9dbc821",
   "metadata": {},
   "outputs": [
    {
     "name": "stdout",
     "output_type": "stream",
     "text": [
      "The autoreload extension is already loaded. To reload it, use:\n",
      "  %reload_ext autoreload\n"
     ]
    }
   ],
   "source": [
    "%load_ext autoreload\n",
    "%autoreload 2"
   ]
  },
  {
   "cell_type": "code",
   "execution_count": 11,
   "id": "45e0075a",
   "metadata": {},
   "outputs": [],
   "source": [
    "import requests, gzip\n",
    "import numpy as np\n",
    "def get(url):\n",
    "    return np.frombuffer(gzip.decompress(requests.get(url).content), dtype=np.uint8)\n",
    "\n",
    "X_train = get(\"http://yann.lecun.com/exdb/mnist/train-images-idx3-ubyte.gz\")[0x10:].reshape((-1, 28, 28))\n",
    "y_train = get(\"http://yann.lecun.com/exdb/mnist/train-labels-idx1-ubyte.gz\")[8:]\n",
    "X_test = get(\"http://yann.lecun.com/exdb/mnist/t10k-images-idx3-ubyte.gz\")[0x10:].reshape((-1, 28, 28))\n",
    "y_test = get(\"http://yann.lecun.com/exdb/mnist/t10k-labels-idx1-ubyte.gz\")[8:]"
   ]
  },
  {
   "cell_type": "code",
   "execution_count": 12,
   "id": "95054216",
   "metadata": {},
   "outputs": [
    {
     "data": {
      "text/plain": [
       "<matplotlib.image.AxesImage at 0x145433a60>"
      ]
     },
     "execution_count": 12,
     "metadata": {},
     "output_type": "execute_result"
    },
    {
     "data": {
      "image/png": "[encoded data removed]",
      "text/plain": [
       "<Figure size 432x288 with 1 Axes>"
      ]
     },
     "metadata": {
      "needs_background": "light"
     },
     "output_type": "display_data"
    }
   ],
   "source": [
    "from matplotlib.pyplot import imshow\n",
    "imshow(X_test[0])"
   ]
  },
  {
   "cell_type": "code",
   "execution_count": 13,
   "id": "36376dc0",
   "metadata": {},
   "outputs": [],
   "source": [
    "N_EPOCH = 10\n",
    "LR = 0.01\n",
    "BS = 250"
   ]
  },
  {
   "cell_type": "code",
   "execution_count": 14,
   "id": "5707cb48",
   "metadata": {},
   "outputs": [],
   "source": [
    "import torch\n",
    "torch.set_printoptions(sci_mode=False)\n",
    "# Feature Scaling\n",
    "X_train_scaled = torch.tensor([np.reshape(xi/256, (-1)) for xi in X_train], dtype=torch.float32)\n",
    "X_test_scaled = torch.tensor([np.reshape(xi/256, (-1, 28*28)) for xi in X_test], dtype=torch.float32)\n",
    "\n",
    "# One-Hot encoded targets\n",
    "y_train_one_hot = [[1 if i == l else 0 for i in range(10)] for l in y_train]\n",
    "y_test_one_hot = [[1 if i == l else 0 for i in range(10)] for l in y_test]\n",
    "\n",
    "y_train_torch = torch.tensor(y_train.copy())\n",
    "y_test_torch = torch.tensor(y_test.copy())\n",
    "from torch.utils.data import TensorDataset\n",
    "from torch.utils.data import DataLoader\n",
    "train_ds = TensorDataset(X_train_scaled, y_train_torch)\n",
    "test_ds = TensorDataset(X_test_scaled, y_test_torch)\n",
    "train_dl = DataLoader(train_ds, BS, shuffle=True)\n",
    "test_dl = DataLoader(test_ds)"
   ]
  },
  {
   "cell_type": "code",
   "execution_count": 15,
   "id": "5c231cbc",
   "metadata": {},
   "outputs": [],
   "source": [
    "import model\n",
    "model = model.conNet()"
   ]
  },
  {
   "cell_type": "code",
   "execution_count": 16,
   "id": "9414d046",
   "metadata": {},
   "outputs": [
    {
     "data": {
      "text/html": [
       "Finishing last run (ID:limshfvb) before initializing another..."
      ],
      "text/plain": [
       "<IPython.core.display.HTML object>"
      ]
     },
     "metadata": {},
     "output_type": "display_data"
    },
    {
     "data": {
      "text/html": [
       "Waiting for W&B process to finish... <strong style=\"color:green\">(success).</strong>"
      ],
      "text/plain": [
       "<IPython.core.display.HTML object>"
      ]
     },
     "metadata": {},
     "output_type": "display_data"
    },
    {
     "data": {
      "application/vnd.jupyter.widget-view+json": {
       "model_id": "8fa86ef1e6e149348ed26531bea5c26e",
       "version_major": 2,
       "version_minor": 0
      },
      "text/plain": [
       "VBox(children=(Label(value='0.001 MB of 0.001 MB uploaded (0.000 MB deduped)\\r'), FloatProgress(value=1.0, max…"
      ]
     },
     "metadata": {},
     "output_type": "display_data"
    },
    {
     "data": {
      "text/html": [
       "<style>\n",
       "    table.wandb td:nth-child(1) { padding: 0 10px; text-align: left ; width: auto;} td:nth-child(2) {text-align: left ; width: 100%}\n",
       "    .wandb-row { display: flex; flex-direction: row; flex-wrap: wrap; justify-content: flex-start; width: 100% }\n",
       "    .wandb-col { display: flex; flex-direction: column; flex-basis: 100%; flex: 1; padding: 10px; }\n",
       "    </style>\n",
       "<div class=\"wandb-row\"><div class=\"wandb-col\"><h3>Run history:</h3><br/><table class=\"wandb\"><tr><td>loss</td><td>█▄▃▂▂▂▂▁▁▁▁▁▁▁▁▁▁▁▁▁▁▁▁▁▁▁▁▁▁▁▁▁▁▁▁▁▁▁▁▁</td></tr><tr><td>test accuracy</td><td>▁▁▁▁▁▁▁▁▁▁▁▁▁▁▁▁▁▁▁▁▁▁▁▁▁▁▁▁▁▁▁▁▁▁▁▁▁▁▁▁</td></tr></table><br/></div><div class=\"wandb-col\"><h3>Run summary:</h3><br/><table class=\"wandb\"><tr><td>loss</td><td>1632.47305</td></tr><tr><td>test accuracy</td><td>0.98</td></tr></table><br/></div></div>"
      ],
      "text/plain": [
       "<IPython.core.display.HTML object>"
      ]
     },
     "metadata": {},
     "output_type": "display_data"
    },
    {
     "data": {
      "text/html": [
       "Synced <strong style=\"color:#cdcd00\">young-haze-3</strong>: <a href=\"https://wandb.ai/0xasim/mnist/runs/limshfvb\" target=\"_blank\">https://wandb.ai/0xasim/mnist/runs/limshfvb</a><br/>Synced 5 W&B file(s), 0 media file(s), 0 artifact file(s) and 0 other file(s)"
      ],
      "text/plain": [
       "<IPython.core.display.HTML object>"
      ]
     },
     "metadata": {},
     "output_type": "display_data"
    },
    {
     "data": {
      "text/html": [
       "Find logs at: <code>./wandb/run-20220514_190922-limshfvb/logs</code>"
      ],
      "text/plain": [
       "<IPython.core.display.HTML object>"
      ]
     },
     "metadata": {},
     "output_type": "display_data"
    },
    {
     "data": {
      "text/html": [
       "Successfully finished last run (ID:limshfvb). Initializing new run:<br/>"
      ],
      "text/plain": [
       "<IPython.core.display.HTML object>"
      ]
     },
     "metadata": {},
     "output_type": "display_data"
    },
    {
     "data": {
      "text/html": [
       "Tracking run with wandb version 0.12.16"
      ],
      "text/plain": [
       "<IPython.core.display.HTML object>"
      ]
     },
     "metadata": {},
     "output_type": "display_data"
    },
    {
     "data": {
      "text/html": [
       "Run data is saved locally in <code>/Users/dude/fun/ai-notebooks/mnist/wandb/run-20220514_192429-70ciz74r</code>"
      ],
      "text/plain": [
       "<IPython.core.display.HTML object>"
      ]
     },
     "metadata": {},
     "output_type": "display_data"
    },
    {
     "data": {
      "text/html": [
       "Syncing run <strong><a href=\"https://wandb.ai/0xasim/mnist/runs/70ciz74r\" target=\"_blank\">earthy-star-4</a></strong> to <a href=\"https://wandb.ai/0xasim/mnist\" target=\"_blank\">Weights & Biases</a> (<a href=\"https://wandb.me/run\" target=\"_blank\">docs</a>)<br/>"
      ],
      "text/plain": [
       "<IPython.core.display.HTML object>"
      ]
     },
     "metadata": {},
     "output_type": "display_data"
    }
   ],
   "source": [
    "import wandb\n",
    "wandb.init(project=\"mnist\", entity=\"0xasim\")\n",
    "wandb.config = {\n",
    "  \"learning_rate\": LR,\n",
    "  \"epochs\": N_EPOCH,\n",
    "  \"batch_size\": BS\n",
    "}\n",
    "WAND = False"
   ]
  },
  {
   "cell_type": "code",
   "execution_count": 17,
   "id": "4e55025b",
   "metadata": {},
   "outputs": [],
   "source": [
    "def get_test_acc():\n",
    "    with torch.no_grad():\n",
    "        n_correct = 0\n",
    "        for x, target in test_dl:\n",
    "            # b_x = Variable(x)[0]\n",
    "            b_x = x\n",
    "            pred = model.forward(b_x)\n",
    "            top_1 = torch.argmax(pred)\n",
    "            n_correct += (top_1 == target)\n",
    "        acc = n_correct[0]/10_00\n",
    "        # print(f'accuracy: {acc/100}%')\n",
    "        return acc"
   ]
  },
  {
   "cell_type": "code",
   "execution_count": 21,
   "id": "2b1ece29",
   "metadata": {},
   "outputs": [
    {
     "name": "stderr",
     "output_type": "stream",
     "text": []
    },
    {
     "name": "stdout",
     "output_type": "stream",
     "text": [
      "[6899.69648048 6484.31933392 5662.18933091 5463.9911931  4862.81636835\n",
      " 5081.22579602 4788.58502209 4283.66448742 3711.66278142 3188.73280066] tensor(0.9800)\n"
     ]
    }
   ],
   "source": [
    "import torch\n",
    "import torch.nn as nn\n",
    "import torch.nn.functional as F\n",
    "from torch.autograd import Variable\n",
    "import numpy as np\n",
    "from tqdm import tqdm\n",
    "loss_hist = np.zeros(N_EPOCH)\n",
    "accuracy_hist = np.zeros(N_EPOCH)\n",
    "loss_fn = nn.CrossEntropyLoss()\n",
    "optimizer = torch.optim.Adam(model.parameters(), lr=LR)\n",
    "for epoch in tqdm(range(N_EPOCH)):\n",
    "    for x_batch, y_batch in train_dl:\n",
    "        # print(pred[0], y_batch[0])\n",
    "        # imshow((x_batch[0][0]*256).reshape(28,28))\n",
    "        b_x = Variable(x_batch)\n",
    "        b_y = Variable(y_batch)\n",
    "        pred = model.forward(b_x)\n",
    "        loss = loss_fn(pred, b_y)\n",
    "        # clear gradients for this training step\n",
    "        optimizer.zero_grad()\n",
    "        # backprop, compute gradients\n",
    "        loss.backward()\n",
    "        # apply gradients\n",
    "        optimizer.step()\n",
    "        loss_hist[epoch] += loss.item()*y_batch.size()[0]\n",
    "    if WAND:\n",
    "        wandb.log({\"loss\": loss_hist[epoch]})\n",
    "        wandb.log({\"test accuracy\": get_test_acc()})\n",
    "print(loss_hist, get_test_acc())"
   ]
  }
 ],
 "metadata": {
  "interpreter": {
   "hash": "a0a5145e6c304e2a9afaf5b930a2955b950bd4b81fe94f7c42930f43f42762eb"
  },
  "kernelspec": {
   "display_name": "Python 3.10.4 64-bit",
   "language": "python",
   "name": "python3"
  },
  "language_info": {
   "codemirror_mode": {
    "name": "ipython",
    "version": 3
   },
   "file_extension": ".py",
   "mimetype": "text/x-python",
   "name": "python",
   "nbconvert_exporter": "python",
   "pygments_lexer": "ipython3",
   "version": "3.10.4"
  }
 },
 "nbformat": 4,
 "nbformat_minor": 5
}

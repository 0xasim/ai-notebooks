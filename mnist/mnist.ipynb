{
 "cells": [
  {
   "cell_type": "code",
   "execution_count": 2,
   "id": "b9dbc821",
   "metadata": {},
   "outputs": [],
   "source": [
    "%load_ext autoreload\n",
    "%autoreload 2"
   ]
  },
  {
   "cell_type": "code",
   "execution_count": 3,
   "id": "45e0075a",
   "metadata": {},
   "outputs": [],
   "source": [
    "import requests, gzip\n",
    "import numpy as np\n",
    "def get(url):\n",
    "    return np.frombuffer(gzip.decompress(requests.get(url).content), dtype=np.uint8)\n",
    "\n",
    "X_train = get(\"http://yann.lecun.com/exdb/mnist/train-images-idx3-ubyte.gz\")[0x10:].reshape((-1, 28, 28))\n",
    "y_train = get(\"http://yann.lecun.com/exdb/mnist/train-labels-idx1-ubyte.gz\")[8:]\n",
    "X_test = get(\"http://yann.lecun.com/exdb/mnist/t10k-images-idx3-ubyte.gz\")[0x10:].reshape((-1, 28, 28))\n",
    "y_test = get(\"http://yann.lecun.com/exdb/mnist/t10k-labels-idx1-ubyte.gz\")[8:]"
   ]
  },
  {
   "cell_type": "code",
   "execution_count": 4,
   "id": "95054216",
   "metadata": {},
   "outputs": [
    {
     "data": {
      "text/plain": [
       "<matplotlib.image.AxesImage at 0x1215c8700>"
      ]
     },
     "execution_count": 4,
     "metadata": {},
     "output_type": "execute_result"
    },
    {
     "data": {
      "image/png": "[encoded data removed]",
      "text/plain": [
       "<Figure size 432x288 with 1 Axes>"
      ]
     },
     "metadata": {
      "needs_background": "light"
     },
     "output_type": "display_data"
    }
   ],
   "source": [
    "from matplotlib.pyplot import imshow\n",
    "imshow(X_test[0])"
   ]
  },
  {
   "cell_type": "code",
   "execution_count": 5,
   "id": "5707cb48",
   "metadata": {},
   "outputs": [
    {
     "name": "stderr",
     "output_type": "stream",
     "text": [
      "/var/folders/c4/j059kg7n61q9x8b27zrclg8c0000gn/T/ipykernel_23057/2845450077.py:4: UserWarning: Creating a tensor from a list of numpy.ndarrays is extremely slow. Please consider converting the list to a single numpy.ndarray with numpy.array() before converting to a tensor. (Triggered internally at  /Users/runner/work/pytorch/pytorch/pytorch/torch/csrc/utils/tensor_new.cpp:210.)\n",
      "  X_train_scaled = torch.tensor([np.reshape(xi/256, (-1)) for xi in X_train], dtype=torch.float32)\n"
     ]
    }
   ],
   "source": [
    "import torch\n",
    "torch.set_printoptions(sci_mode=False)\n",
    "# Feature Scaling\n",
    "X_train_scaled = torch.tensor([np.reshape(xi/256, (-1)) for xi in X_train], dtype=torch.float32)\n",
    "X_test_scaled = torch.tensor([np.reshape(xi/256, (-1, 28*28)) for xi in X_test], dtype=torch.float32)\n",
    "\n",
    "# One-Hot encoded targets\n",
    "y_train_one_hot = [[1 if i == l else 0 for i in range(10)] for l in y_train]\n",
    "y_test_one_hot = [[1 if i == l else 0 for i in range(10)] for l in y_test]\n",
    "\n",
    "y_train_torch = torch.tensor(y_train.copy())\n",
    "y_test_torch = torch.tensor(y_test.copy())\n",
    "from torch.utils.data import TensorDataset\n",
    "from torch.utils.data import DataLoader\n",
    "train_ds = TensorDataset(X_train_scaled, y_train_torch)\n",
    "test_ds = TensorDataset(X_test_scaled, y_test_torch)\n",
    "BS = 250\n",
    "train_dl = DataLoader(train_ds, BS, shuffle=True)\n",
    "test_dl = DataLoader(test_ds)"
   ]
  },
  {
   "cell_type": "code",
   "execution_count": 6,
   "id": "5c231cbc",
   "metadata": {},
   "outputs": [
    {
     "name": "stderr",
     "output_type": "stream",
     "text": [
      "/var/folders/c4/j059kg7n61q9x8b27zrclg8c0000gn/T/ipykernel_23057/733587254.py:5: UserWarning: To copy construct from a tensor, it is recommended to use sourceTensor.clone().detach() or sourceTensor.clone().detach().requires_grad_(True), rather than torch.tensor(sourceTensor).\n",
      "  x = torch.tensor(x.reshape((-1, 28*28)), dtype=torch.float32)\n"
     ]
    },
    {
     "data": {
      "text/plain": [
       "tensor([[-144.6187, -747.2369,    0.0000, -444.3639, -228.1190, -872.8916,\n",
       "         -251.4371, -309.6400,  -35.3154, -211.1194]],\n",
       "       grad_fn=<LogSoftmaxBackward0>)"
      ]
     },
     "execution_count": 6,
     "metadata": {},
     "output_type": "execute_result"
    }
   ],
   "source": [
    "import model\n",
    "torch.manual_seed(0)\n",
    "model = model.conNet()\n",
    "x = X_test_scaled[0]\n",
    "x = torch.tensor(x.reshape((-1, 28*28)), dtype=torch.float32)\n",
    "model.forward(x)"
   ]
  },
  {
   "cell_type": "code",
   "execution_count": 14,
   "id": "2b1ece29",
   "metadata": {},
   "outputs": [
    {
     "name": "stderr",
     "output_type": "stream",
     "text": [
      "100%|██████████| 100/100 [00:45<00:00,  2.21it/s]"
     ]
    },
    {
     "name": "stdout",
     "output_type": "stream",
     "text": [
      "[37958.00464321 28174.55793452 20835.23336239 13189.06996632\n",
      " 10927.91092582 10541.74492016  7653.77443226  7705.5995863\n",
      "  7872.61398853  6813.36587956  6682.7491005   6118.36319236\n",
      "  6586.97446069  4808.77724284  5422.25996808  5435.59096594\n",
      "  4037.89485379  3969.9724591   3987.57027858  4753.56564979\n",
      "  4460.20466335  4626.92307852  3739.90935005  4493.60047493\n",
      "  3239.3718736   3807.04125151  3716.10580316  3516.03207387\n",
      "  3310.07019638  3218.41267347  3076.44608713  3704.17353325\n",
      "  3522.86356583  2957.99368612  3248.84679754  3546.71988751\n",
      "  3256.18778887  2805.16759532  3073.10191239  3960.63059666\n",
      "  2713.57081531  2149.4093448   3260.06168082  2649.80201098\n",
      "  2261.71237802  3282.89052789  2036.07938815  2188.07713913\n",
      "  2299.16067965  2807.71781256  2751.86225073  3444.97750806\n",
      "  2741.73061445  2809.82309167  3002.18508388  2719.32777416\n",
      "  2273.19417633  1701.89100752  2200.71921679  2014.92894697\n",
      "  1211.99437326  1647.22828831  2274.50192388  3666.55751478\n",
      "  3114.35179607  1756.08591512  2290.55005279  1865.92105816\n",
      "  1674.54423158  1843.92907469  1997.72649632  1719.08904864\n",
      "  1799.75733893  2131.34978839  2161.00073601  3080.05176505\n",
      "  1997.19899095  2020.34876689  2018.35187843  2193.5336459\n",
      "  1408.0957736   1406.58365915  1399.56546829  2604.73097353\n",
      "  3125.39344942  1433.12807017  1353.18558587  1923.79807963\n",
      "  1170.89788453  1924.33520548  1784.57360073  2070.21277049\n",
      "  2077.47993874  1726.91863187  2642.04805803  1584.10942918\n",
      "   948.6950746   1571.72830345  1363.88328952  1306.94084347]\n"
     ]
    },
    {
     "name": "stderr",
     "output_type": "stream",
     "text": [
      "\n"
     ]
    }
   ],
   "source": [
    "import torch\n",
    "import torch.nn as nn\n",
    "import torch.nn.functional as F\n",
    "from torch.autograd import Variable\n",
    "import numpy as np\n",
    "from tqdm import tqdm\n",
    "N_EPOCH = 100\n",
    "LR = 0.01\n",
    "loss_hist = np.zeros(N_EPOCH)\n",
    "accuracy_hist = np.zeros(N_EPOCH)\n",
    "loss_fn = nn.CrossEntropyLoss()\n",
    "optimizer = torch.optim.Adam(model.parameters(), lr=LR)\n",
    "for epoch in tqdm(range(N_EPOCH)):\n",
    "    for x_batch, y_batch in train_dl:\n",
    "        # print(pred[0], y_batch[0])\n",
    "        # imshow((x_batch[0][0]*256).reshape(28,28))\n",
    "        b_x = Variable(x_batch)\n",
    "        b_y = Variable(y_batch)\n",
    "        pred = model.forward(b_x)\n",
    "        loss = loss_fn(pred, b_y)\n",
    "        # clear gradients for this training step\n",
    "        optimizer.zero_grad()\n",
    "        # backprop, compute gradients\n",
    "        loss.backward()\n",
    "        # apply gradients\n",
    "        optimizer.step()\n",
    "        loss_hist[epoch] += loss.item()*y_batch.size()[0]\n",
    "print(loss_hist)"
   ]
  },
  {
   "cell_type": "code",
   "execution_count": 31,
   "id": "4e55025b",
   "metadata": {},
   "outputs": [
    {
     "name": "stdout",
     "output_type": "stream",
     "text": [
      "accuracy: 9.800000190734863%\n"
     ]
    }
   ],
   "source": [
    "with torch.no_grad():\n",
    "    n_correct = 0\n",
    "    for x, target in test_dl:\n",
    "        # b_x = Variable(x)[0]\n",
    "        b_x = x\n",
    "        pred = model.forward(b_x)\n",
    "        top_1 = torch.argmax(pred)\n",
    "        n_correct += (top_1 == target)\n",
    "    print(f'accuracy: {n_correct[0]/10_000*100}%')"
   ]
  }
 ],
 "metadata": {
  "interpreter": {
   "hash": "a0a5145e6c304e2a9afaf5b930a2955b950bd4b81fe94f7c42930f43f42762eb"
  },
  "kernelspec": {
   "display_name": "Python 3.10.4 64-bit",
   "language": "python",
   "name": "python3"
  },
  "language_info": {
   "codemirror_mode": {
    "name": "ipython",
    "version": 3
   },
   "file_extension": ".py",
   "mimetype": "text/x-python",
   "name": "python",
   "nbconvert_exporter": "python",
   "pygments_lexer": "ipython3",
   "version": "3.10.4"
  }
 },
 "nbformat": 4,
 "nbformat_minor": 5
}

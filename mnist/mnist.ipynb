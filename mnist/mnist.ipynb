{
 "cells": [
  {
   "cell_type": "code",
   "execution_count": 110,
   "id": "b9dbc821",
   "metadata": {},
   "outputs": [
    {
     "name": "stdout",
     "output_type": "stream",
     "text": [
      "The autoreload extension is already loaded. To reload it, use:\n",
      "  %reload_ext autoreload\n"
     ]
    }
   ],
   "source": [
    "%load_ext autoreload\n",
    "%autoreload 2"
   ]
  },
  {
   "cell_type": "code",
   "execution_count": 111,
   "id": "45e0075a",
   "metadata": {},
   "outputs": [],
   "source": [
    "import requests, gzip\n",
    "import numpy as np\n",
    "def get(url):\n",
    "    return np.frombuffer(gzip.decompress(requests.get(url).content), dtype=np.uint8)\n",
    "\n",
    "X_train = get(\"http://yann.lecun.com/exdb/mnist/train-images-idx3-ubyte.gz\")[0x10:].reshape((-1, 28, 28))\n",
    "y_train = get(\"http://yann.lecun.com/exdb/mnist/train-labels-idx1-ubyte.gz\")[8:]\n",
    "X_test = get(\"http://yann.lecun.com/exdb/mnist/t10k-images-idx3-ubyte.gz\")[0x10:].reshape((-1, 28, 28))\n",
    "y_test = get(\"http://yann.lecun.com/exdb/mnist/t10k-labels-idx1-ubyte.gz\")[8:]"
   ]
  },
  {
   "cell_type": "code",
   "execution_count": 112,
   "id": "95054216",
   "metadata": {},
   "outputs": [
    {
     "data": {
      "text/plain": [
       "<matplotlib.image.AxesImage at 0x15975ecb0>"
      ]
     },
     "execution_count": 112,
     "metadata": {},
     "output_type": "execute_result"
    },
    {
     "data": {
      "image/png": "[encoded data removed]",
      "text/plain": [
       "<Figure size 432x288 with 1 Axes>"
      ]
     },
     "metadata": {
      "needs_background": "light"
     },
     "output_type": "display_data"
    }
   ],
   "source": [
    "from matplotlib.pyplot import imshow\n",
    "imshow(X_test[0])"
   ]
  },
  {
   "cell_type": "code",
   "execution_count": 116,
   "id": "5707cb48",
   "metadata": {},
   "outputs": [],
   "source": [
    "import torch\n",
    "torch.set_printoptions(sci_mode=False)\n",
    "# Feature Scaling\n",
    "X_train_scaled = torch.tensor([np.reshape(xi/256, (-1)) for xi in X_train], dtype=torch.float32)\n",
    "X_test_scaled = torch.tensor([np.reshape(xi/256, (-1, 28*28)) for xi in X_test], dtype=torch.float32)\n",
    "\n",
    "# One-Hot encoded targets\n",
    "y_train_one_hot = [[1 if i == l else 0 for i in range(10)] for l in y_train]\n",
    "y_test_one_hot = [[1 if i == l else 0 for i in range(10)] for l in y_test]\n",
    "\n",
    "y_train_torch = torch.tensor(y_train.copy())\n",
    "y_test_torch = torch.tensor(y_test.copy())\n",
    "from torch.utils.data import TensorDataset\n",
    "from torch.utils.data import DataLoader\n",
    "train_ds = TensorDataset(X_train_scaled, y_train_torch)\n",
    "test_ds = TensorDataset(X_test_scaled, y_test_torch)\n",
    "BS = 250\n",
    "train_dl = DataLoader(train_ds, BS, shuffle=True)\n",
    "test_dl = DataLoader(test_ds)"
   ]
  },
  {
   "cell_type": "code",
   "execution_count": 117,
   "id": "5c231cbc",
   "metadata": {},
   "outputs": [
    {
     "name": "stderr",
     "output_type": "stream",
     "text": [
      "/var/folders/c4/j059kg7n61q9x8b27zrclg8c0000gn/T/ipykernel_6515/733587254.py:5: UserWarning: To copy construct from a tensor, it is recommended to use sourceTensor.clone().detach() or sourceTensor.clone().detach().requires_grad_(True), rather than torch.tensor(sourceTensor).\n",
      "  x = torch.tensor(x.reshape((-1, 28*28)), dtype=torch.float32)\n"
     ]
    },
    {
     "data": {
      "text/plain": [
       "tensor([[-144.618682861328, -747.236938476562,    0.000000000000,\n",
       "         -444.363891601562, -228.119018554688, -872.891601562500,\n",
       "         -251.437133789062, -309.640045166016,  -35.315368652344,\n",
       "         -211.119354248047]], grad_fn=<LogSoftmaxBackward0>)"
      ]
     },
     "execution_count": 117,
     "metadata": {},
     "output_type": "execute_result"
    }
   ],
   "source": [
    "import model\n",
    "torch.manual_seed(0)\n",
    "model = model.conNet()\n",
    "x = X_test_scaled[0]\n",
    "x = torch.tensor(x.reshape((-1, 28*28)), dtype=torch.float32)\n",
    "model.forward(x)"
   ]
  },
  {
   "cell_type": "code",
   "execution_count": 127,
   "id": "2b1ece29",
   "metadata": {},
   "outputs": [
    {
     "name": "stderr",
     "output_type": "stream",
     "text": [
      "100%|██████████| 100/100 [00:37<00:00,  2.72it/s]"
     ]
    },
    {
     "name": "stdout",
     "output_type": "stream",
     "text": [
      "[869545.67503929 223234.16230083 120460.91192961  73216.85762703\n",
      "  49171.14201933  35051.9469725   27219.29812897  21570.49680874\n",
      "  18697.5200531   15405.91172595  13639.67786543  11456.45928022\n",
      "  10876.24799884  13190.46288583  13624.83875756  11813.52743474\n",
      "   9394.10843842   9964.67342248   8880.16444091   9904.49378308\n",
      "   9926.77162077   9922.12189313   7431.14337939   6834.59648746\n",
      "   8412.1384047    9160.48626933  10343.24439413   6012.56859745\n",
      "   7692.21056278   7229.23515255   6955.28604537   7639.73618446\n",
      "   6277.81012646   4358.15245511   4392.37834332   3854.80780115\n",
      "   4376.91953613   5365.53977159   6555.99800749   7434.10103722\n",
      "   4879.81714098   5127.48424964   4785.60844239   4437.88289391\n",
      "   5192.43436623   4737.84183436   3680.39627737   2970.80005089\n",
      "   4491.67142926   4143.46698501   5660.47651014   4234.8181139\n",
      "   3111.24601236   2723.94427306   3117.8987746    3198.49255734\n",
      "   3522.147012     3632.1092686    4324.89973482   3497.27212846\n",
      "   4260.21919888   3591.32843867   3645.95819857   3904.47219194\n",
      "   2680.26082511   1936.57096027   3159.94739181   3603.70388169\n",
      "   2825.37443683   3366.51684045   2597.26378389   3567.10174107\n",
      "   3548.72977864   2606.90705825   2466.15600996   1907.6223456\n",
      "   3062.46406979   2795.25136815   3608.23329242   2915.90179469\n",
      "   2417.85899992   2259.50399003   4387.47621501   2356.60592863\n",
      "   2944.77675894   1909.5032682    1780.69006086   2157.42629549\n",
      "   3505.90663707   3048.90087291   2949.77196798   2035.8635389\n",
      "   2513.62687346   2943.71755558   1934.54182617   1676.76486141\n",
      "   2059.11171906   4802.9833067    2872.35182067   1537.03035204]\n"
     ]
    },
    {
     "name": "stderr",
     "output_type": "stream",
     "text": [
      "\n"
     ]
    }
   ],
   "source": [
    "import torch\n",
    "import torch.nn as nn\n",
    "import torch.nn.functional as F\n",
    "from torch.autograd import Variable\n",
    "import numpy as np\n",
    "from tqdm import tqdm\n",
    "N_EPOCH = 10\n",
    "LR = 0.01\n",
    "loss_hist = np.zeros(N_EPOCH)\n",
    "accuracy_hist = np.zeros(N_EPOCH)\n",
    "loss_fn = nn.CrossEntropyLoss()\n",
    "optimizer = torch.optim.Adam(model.parameters(), lr=LR)\n",
    "for epoch in tqdm(range(N_EPOCH)):\n",
    "    for x_batch, y_batch in train_dl:\n",
    "        # print(pred[0], y_batch[0])\n",
    "        # imshow((x_batch[0][0]*256).reshape(28,28))\n",
    "        b_x = Variable(x_batch)\n",
    "        b_y = Variable(y_batch)\n",
    "        pred = model.forward(b_x)\n",
    "        loss = loss_fn(pred, b_y)\n",
    "        # clear gradients for this training step\n",
    "        optimizer.zero_grad()\n",
    "        # backprop, compute gradients\n",
    "        loss.backward()\n",
    "        # apply gradients\n",
    "        optimizer.step()\n",
    "        loss_hist[epoch] += loss.item()*y_batch.size()[0]\n",
    "print(loss_hist)"
   ]
  },
  {
   "cell_type": "code",
   "execution_count": 162,
   "id": "4e55025b",
   "metadata": {},
   "outputs": [
    {
     "name": "stdout",
     "output_type": "stream",
     "text": [
      "9721 279\n"
     ]
    }
   ],
   "source": [
    "correct_clas_test = 0\n",
    "misclassified = 0\n",
    "for x, target in test_dl:\n",
    "    b_x = Variable(x)[0]\n",
    "    pred = model.forward(b_x)\n",
    "    top_1 = torch.argmax(pred)\n",
    "    if top_1 == target:\n",
    "        correct_clas_test += 1\n",
    "    else:\n",
    "        misclassified += 1\n",
    "print(correct_clas_test, misclassified)"
   ]
  },
  {
   "cell_type": "code",
   "execution_count": 150,
   "id": "bf9041fd",
   "metadata": {},
   "outputs": [
    {
     "name": "stdout",
     "output_type": "stream",
     "text": [
      "pred: 4, target: 4\n"
     ]
    },
    {
     "name": "stderr",
     "output_type": "stream",
     "text": [
      "/var/folders/c4/j059kg7n61q9x8b27zrclg8c0000gn/T/ipykernel_6515/2873144522.py:3: UserWarning: To copy construct from a tensor, it is recommended to use sourceTensor.clone().detach() or sourceTensor.clone().detach().requires_grad_(True), rather than torch.tensor(sourceTensor).\n",
      "  x = torch.tensor(x.reshape((-1, 28*28)), dtype=torch.float32)\n"
     ]
    },
    {
     "data": {
      "text/plain": [
       "<matplotlib.image.AxesImage at 0x15ebbf550>"
      ]
     },
     "execution_count": 150,
     "metadata": {},
     "output_type": "execute_result"
    },
    {
     "data": {
      "image/png": "[encoded data removed]",
      "text/plain": [
       "<Figure size 432x288 with 1 Axes>"
      ]
     },
     "metadata": {
      "needs_background": "light"
     },
     "output_type": "display_data"
    }
   ],
   "source": [
    "n = 6\n",
    "x = X_test_scaled[n]\n",
    "x = torch.tensor(x.reshape((-1, 28*28)), dtype=torch.float32)\n",
    "o = model.forward(x)\n",
    "print(f'pred: {torch.argmax(o)}, target: {y_test[n]}')\n",
    "imshow(X_test[n])"
   ]
  }
 ],
 "metadata": {
  "interpreter": {
   "hash": "a0a5145e6c304e2a9afaf5b930a2955b950bd4b81fe94f7c42930f43f42762eb"
  },
  "kernelspec": {
   "display_name": "Python 3.10.4 64-bit",
   "language": "python",
   "name": "python3"
  },
  "language_info": {
   "codemirror_mode": {
    "name": "ipython",
    "version": 3
   },
   "file_extension": ".py",
   "mimetype": "text/x-python",
   "name": "python",
   "nbconvert_exporter": "python",
   "pygments_lexer": "ipython3",
   "version": "3.10.4"
  }
 },
 "nbformat": 4,
 "nbformat_minor": 5
}
